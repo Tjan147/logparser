{
 "cells": [
  {
   "cell_type": "code",
   "execution_count": 1,
   "metadata": {},
   "outputs": [
    {
     "name": "stdout",
     "output_type": "stream",
     "text": [
      "   height  block_cost  endblocker_cost  handler_cost  err_count\n",
      "0  765472        5475             1737          40.0        0.0\n",
      "1  765473        5494             1848         103.0        0.0\n",
      "2  765474        4663             1156          41.0        0.0\n",
      "3  765475        7435             1521          82.0        0.0\n",
      "4  765476        5265             1573           0.0        0.0\n",
      "       height  block_cost  endblocker_cost  handler_cost  err_count\n",
      "13371  778843        6088             1270          82.0        0.0\n",
      "13372  778844        7940             1016          87.0        1.0\n",
      "13373  778845       10121             1289         173.0        0.0\n",
      "13374  778846        6059             1722          85.0        0.0\n",
      "13375  778847        4959             1428          41.0        0.0\n"
     ]
    }
   ],
   "source": [
    "# plot the block intervals \n",
    "# imports\n",
    "import os.path\n",
    "import pandas as pd\n",
    "import matplotlib.pyplot as plt\n",
    "\n",
    "# load log file's name\n",
    "with open('./target.txt', 'r') as target_file:\n",
    "    target = target_file.read()\n",
    "\n",
    "# form parsed data file name\n",
    "def gen_csv_path(log_type):\n",
    "    return './data/' + target + '.' + log_type + '.csv'\n",
    "    \n",
    "# read $target.tmCommit as dataframe\n",
    "df_commit = pd.read_csv(gen_csv_path(\"tmCommit\"))\n",
    "cost = df_commit[['height', 'block_cost']]\n",
    "\n",
    "# read $target.tmEndblocker as dataframe\n",
    "df_endblocker = pd.read_csv(gen_csv_path(\"tmEndBlocker\"))\n",
    "cost = pd.merge(cost, df_endblocker.groupby('height')['endblocker_cost'].sum(), on='height', how='left')\n",
    "\n",
    "# read $target.tmHandler as dataframe\n",
    "if os.path.exists(gen_csv_path(\"tmHandler\")):\n",
    "    df_handler = pd.read_csv(gen_csv_path(\"tmHandler\"))\n",
    "    cost = pd.merge(cost, df_handler.groupby('height')['handler_cost'].sum(), on='height', how='left')\n",
    "    \n",
    "# read $target.tmQuerier as dataframe\n",
    "if os.path.exists(gen_csv_path(\"tmQuerier\")):\n",
    "    df_handler = pd.read_csv(gen_csv_path(\"tmQuerier\"))\n",
    "    cost = pd.merge(cost, df_handler.groupby('height')['querier_cost'].sum(), on='height', how='left')   \n",
    "\n",
    "# read $target.tmErr as dataframe\n",
    "if os.path.exists(gen_csv_path(\"tmErr\")):\n",
    "    df_err = pd.read_csv(gen_csv_path(\"tmErr\"))\n",
    "    cost = pd.merge(cost, df_err.groupby('height')['stamp'].count(), on='height', how='left')\n",
    "    cost = cost.rename(columns={'stamp':'err_count'})\n",
    "\n",
    "# is this necessary?\n",
    "cost.fillna(0, inplace=True)\n",
    "print(cost.head(5))\n",
    "print(cost.tail(5))\n",
    "    \n",
    "# plot\n",
    "cost.plot(x='height', figsize=(20,10))\n",
    "\n",
    "plt.legend()\n",
    "plt.savefig('./' + target + '.png')"
   ]
  },
  {
   "cell_type": "code",
   "execution_count": null,
   "metadata": {},
   "outputs": [],
   "source": []
  }
 ],
 "metadata": {
  "kernelspec": {
   "display_name": "Python 3",
   "language": "python",
   "name": "python3"
  },
  "language_info": {
   "codemirror_mode": {
    "name": "ipython",
    "version": 3
   },
   "file_extension": ".py",
   "mimetype": "text/x-python",
   "name": "python",
   "nbconvert_exporter": "python",
   "pygments_lexer": "ipython3",
   "version": "3.7.6"
  }
 },
 "nbformat": 4,
 "nbformat_minor": 2
}
